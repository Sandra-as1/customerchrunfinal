{
 "cells": [
  {
   "cell_type": "markdown",
   "metadata": {
    "id": "g5Mavq2nkvrU"
   },
   "source": [
    "Explore the Dataset:"
   ]
  },
  {
   "cell_type": "code",
   "execution_count": 1,
   "metadata": {
    "colab": {
     "base_uri": "https://localhost:8080/"
    },
    "id": "86HVEO9uWwmJ",
    "outputId": "a0cedec9-799b-4d71-f50a-3dfb00c41152"
   },
   "outputs": [
    {
     "name": "stdout",
     "output_type": "stream",
     "text": [
      "   customerID  Gender  SeniorCitizen Partner Dependents  Tenure PhoneService  \\\n",
      "0  7590-VHVEG  Female              0     Yes         No       1           No   \n",
      "1  5575-GNVDE    Male              0      No         No      34          Yes   \n",
      "2  3668-QPYBK    Male              0      No         No       2          Yes   \n",
      "3  7795-CFOCW    Male              0      No         No      45           No   \n",
      "4  9237-HQITU  Female              0      No         No       2          Yes   \n",
      "\n",
      "  MultipleLines InternetService OnlineSecurity  ... DeviceProtection  \\\n",
      "0            No             DSL             No  ...               No   \n",
      "1            No             DSL            Yes  ...              Yes   \n",
      "2            No             DSL            Yes  ...               No   \n",
      "3            No             DSL            Yes  ...              Yes   \n",
      "4            No     Fiber optic             No  ...               No   \n",
      "\n",
      "  TechSupport StreamingTV StreamingMovies  Contract PaperlessBilling  \\\n",
      "0          No          No              No   Monthly              Yes   \n",
      "1          No          No              No  One year               No   \n",
      "2          No          No              No   Monthly              Yes   \n",
      "3         Yes          No              No  One year               No   \n",
      "4          No          No              No   Monthly              Yes   \n",
      "\n",
      "               PaymentMethod MonthlyCharges  TotalCharges Churn  \n",
      "0                     Manual          29.85         29.85    No  \n",
      "1                     Manual          56.95        1889.5    No  \n",
      "2                     Manual          53.85        108.15   Yes  \n",
      "3  Bank transfer (automatic)          42.30       1840.75    No  \n",
      "4                     Manual          70.70        151.65   Yes  \n",
      "\n",
      "[5 rows x 21 columns]\n",
      "Shape of the dataset: (7043, 21)\n",
      "<class 'pandas.core.frame.DataFrame'>\n",
      "RangeIndex: 7043 entries, 0 to 7042\n",
      "Data columns (total 21 columns):\n",
      " #   Column            Non-Null Count  Dtype  \n",
      "---  ------            --------------  -----  \n",
      " 0   customerID        7043 non-null   object \n",
      " 1   Gender            7043 non-null   object \n",
      " 2   SeniorCitizen     7043 non-null   int64  \n",
      " 3   Partner           7043 non-null   object \n",
      " 4   Dependents        7043 non-null   object \n",
      " 5   Tenure            7043 non-null   int64  \n",
      " 6   PhoneService      7043 non-null   object \n",
      " 7   MultipleLines     7043 non-null   object \n",
      " 8   InternetService   7043 non-null   object \n",
      " 9   OnlineSecurity    7043 non-null   object \n",
      " 10  OnlineBackup      7043 non-null   object \n",
      " 11  DeviceProtection  7043 non-null   object \n",
      " 12  TechSupport       7043 non-null   object \n",
      " 13  StreamingTV       7043 non-null   object \n",
      " 14  StreamingMovies   7043 non-null   object \n",
      " 15  Contract          7043 non-null   object \n",
      " 16  PaperlessBilling  7043 non-null   object \n",
      " 17  PaymentMethod     7043 non-null   object \n",
      " 18  MonthlyCharges    7043 non-null   float64\n",
      " 19  TotalCharges      7043 non-null   object \n",
      " 20  Churn             7043 non-null   object \n",
      "dtypes: float64(1), int64(2), object(18)\n",
      "memory usage: 1.1+ MB\n",
      "None\n"
     ]
    }
   ],
   "source": [
    "import pandas as pd\n",
    "\n",
    "# Read dataset\n",
    "df = pd.read_csv('https://github.com/YBIFoundation/Dataset/raw/main/TelecomCustomerChurn.csv')\n",
    "\n",
    "# Display the first few rows of the dataset\n",
    "print(df.head())\n",
    "\n",
    "# Check the shape of the dataset\n",
    "print(\"Shape of the dataset:\", df.shape)\n",
    "\n",
    "# Get information about the dataset\n",
    "print(df.info())"
   ]
  },
  {
   "cell_type": "markdown",
   "metadata": {
    "id": "KF66PU5Tk1E6"
   },
   "source": [
    "Data Cleaning:\n",
    "\n"
   ]
  },
  {
   "cell_type": "code",
   "execution_count": 2,
   "metadata": {
    "colab": {
     "base_uri": "https://localhost:8080/"
    },
    "id": "m6UU9faLW1_c",
    "outputId": "a20807a6-8f6e-49b7-e7d3-0f947ed7e4d1"
   },
   "outputs": [
    {
     "name": "stdout",
     "output_type": "stream",
     "text": [
      "Missing values in each column:\n",
      " customerID          0\n",
      "Gender              0\n",
      "SeniorCitizen       0\n",
      "Partner             0\n",
      "Dependents          0\n",
      "Tenure              0\n",
      "PhoneService        0\n",
      "MultipleLines       0\n",
      "InternetService     0\n",
      "OnlineSecurity      0\n",
      "OnlineBackup        0\n",
      "DeviceProtection    0\n",
      "TechSupport         0\n",
      "StreamingTV         0\n",
      "StreamingMovies     0\n",
      "Contract            0\n",
      "PaperlessBilling    0\n",
      "PaymentMethod       0\n",
      "MonthlyCharges      0\n",
      "TotalCharges        0\n",
      "Churn               0\n",
      "dtype: int64\n"
     ]
    }
   ],
   "source": [
    "# Check for missing values\n",
    "print(\"Missing values in each column:\\n\", df.isnull().sum())"
   ]
  },
  {
   "cell_type": "code",
   "execution_count": 3,
   "metadata": {
    "colab": {
     "base_uri": "https://localhost:8080/"
    },
    "id": "FofADv1TW8YX",
    "outputId": "789f465c-c73a-43b8-92cd-b640b23b478f"
   },
   "outputs": [
    {
     "name": "stderr",
     "output_type": "stream",
     "text": [
      "C:\\Users\\mathe\\AppData\\Local\\Temp\\ipykernel_26620\\1940206128.py:2: FutureWarning: DataFrame.fillna with 'method' is deprecated and will raise in a future version. Use obj.ffill() or obj.bfill() instead.\n",
      "  df.fillna(method='ffill', inplace=True)\n"
     ]
    }
   ],
   "source": [
    "# Fill missing values\n",
    "df.fillna(method='ffill', inplace=True)"
   ]
  },
  {
   "cell_type": "code",
   "execution_count": 4,
   "metadata": {
    "id": "wrABZwl6W_vi"
   },
   "outputs": [],
   "source": [
    "# Remove duplicates\n",
    "df.drop_duplicates(inplace=True)"
   ]
  },
  {
   "cell_type": "code",
   "execution_count": 5,
   "metadata": {
    "id": "opnhfYMXXJ67"
   },
   "outputs": [],
   "source": [
    "# Identify outliers using IQR\n",
    "# Convert 'TotalCharges' column to numeric, handling errors\n",
    "df['TotalCharges'] = pd.to_numeric(df['TotalCharges'], errors='coerce')\n",
    "\n",
    "# Drop rows with missing values in 'TotalCharges' after conversion\n",
    "df.dropna(subset=['TotalCharges'], inplace=True)\n",
    "\n",
    "Q1 = df['TotalCharges'].quantile(0.25)\n",
    "Q3 = df['TotalCharges'].quantile(0.75)"
   ]
  },
  {
   "cell_type": "markdown",
   "metadata": {
    "id": "9XNH4b9QlDpJ"
   },
   "source": [
    "Data Preprocessing:"
   ]
  },
  {
   "cell_type": "code",
   "execution_count": 6,
   "metadata": {
    "id": "8jIAp55nXTvi"
   },
   "outputs": [],
   "source": [
    "#Encoding Categorical Variables:\n",
    "# One-hot encoding for categorical variables\n",
    "df = pd.get_dummies(df, drop_first=True)"
   ]
  },
  {
   "cell_type": "code",
   "execution_count": 7,
   "metadata": {
    "id": "GQOd-zKAXXwV"
   },
   "outputs": [],
   "source": [
    "#Feature Scaling\n",
    "from sklearn.preprocessing import StandardScaler\n",
    "\n",
    "scaler = StandardScaler()\n",
    "df[['MonthlyCharges', 'TotalCharges']] = scaler.fit_transform(df[['MonthlyCharges', 'TotalCharges']])"
   ]
  },
  {
   "cell_type": "markdown",
   "metadata": {
    "id": "-Ap0hSjSlXiO"
   },
   "source": [
    "Exploratory Data Analysis (EDA)"
   ]
  },
  {
   "cell_type": "code",
   "execution_count": 8,
   "metadata": {
    "colab": {
     "base_uri": "https://localhost:8080/"
    },
    "id": "M04-1oBnXb1F",
    "outputId": "a1d69311-fb24-4b4e-eee0-a4701466b413"
   },
   "outputs": [
    {
     "name": "stdout",
     "output_type": "stream",
     "text": [
      "       SeniorCitizen       Tenure  MonthlyCharges  TotalCharges\n",
      "count    7032.000000  7032.000000    7.032000e+03  7.032000e+03\n",
      "mean        0.162400    32.421786    6.062651e-17 -1.119064e-16\n",
      "std         0.368844    24.545260    1.000071e+00  1.000071e+00\n",
      "min         0.000000     1.000000   -1.547283e+00 -9.990692e-01\n",
      "25%         0.000000     9.000000   -9.709769e-01 -8.302488e-01\n",
      "50%         0.000000    29.000000    1.845440e-01 -3.908151e-01\n",
      "75%         0.000000    55.000000    8.331482e-01  6.668271e-01\n",
      "max         1.000000    72.000000    1.793381e+00  2.824261e+00\n"
     ]
    }
   ],
   "source": [
    "# Summary statistics\n",
    "print(df.describe())"
   ]
  },
  {
   "cell_type": "markdown",
   "metadata": {
    "id": "NDZ1SvMqldqj"
   },
   "source": [
    "Data Visualizations:\n",
    "\n"
   ]
  },
  {
   "cell_type": "code",
   "execution_count": 9,
   "metadata": {
    "colab": {
     "base_uri": "https://localhost:8080/",
     "height": 472
    },
    "id": "1fKjtYvPXfwN",
    "outputId": "474de89d-69ed-463c-9a2d-c9401fded174"
   },
   "outputs": [
    {
     "data": {
      "image/png": "[encoded data removed]",
      "text/plain": [
       "<Figure size 640x480 with 1 Axes>"
      ]
     },
     "metadata": {},
     "output_type": "display_data"
    }
   ],
   "source": [
    "#Churn Distribution:\n",
    "import matplotlib.pyplot as plt\n",
    "import seaborn as sns\n",
    "\n",
    "# Churn distribution\n",
    "sns.countplot(x='Churn_Yes', data=df)\n",
    "plt.title('Churn Distribution')\n",
    "plt.xlabel('Churn (1 = Yes, 0 = No)')\n",
    "plt.ylabel('Count')\n",
    "plt.show()"
   ]
  },
  {
   "cell_type": "code",
   "execution_count": 10,
   "metadata": {
    "colab": {
     "base_uri": "https://localhost:8080/",
     "height": 670
    },
    "id": "QzhJq9nPZzgG",
    "outputId": "b641a1c3-73fd-487b-a74f-0c33b1a27921"
   },
   "outputs": [
    {
     "data": {
      "image/png": "[encoded data removed]",
      "text/plain": [
       "<Figure size 1200x800 with 2 Axes>"
      ]
     },
     "metadata": {},
     "output_type": "display_data"
    }
   ],
   "source": [
    "# Correlation heatmap\n",
    "plt.figure(figsize=(12, 8))\n",
    "# Calculate correlation only for numeric features\n",
    "numeric_df = df.select_dtypes(include=['number'])  # Select only numeric columns\n",
    "sns.heatmap(numeric_df.corr(), annot=True, fmt='.2f', cmap='coolwarm')\n",
    "plt.title('Correlation Heatmap')\n",
    "plt.show()"
   ]
  },
  {
   "cell_type": "markdown",
   "metadata": {
    "id": "vN8m8Kv6Z2_1"
   },
   "source": [
    "**Model Selection and Building**"
   ]
  },
  {
   "cell_type": "code",
   "execution_count": 11,
   "metadata": {},
   "outputs": [
    {
     "name": "stdout",
     "output_type": "stream",
     "text": [
      "Index(['SeniorCitizen', 'Tenure', 'MonthlyCharges', 'TotalCharges',\n",
      "       'customerID_0003-MKNFE', 'customerID_0004-TLHLJ',\n",
      "       'customerID_0011-IGKFF', 'customerID_0013-EXCHZ',\n",
      "       'customerID_0013-MHZWF', 'customerID_0013-SMEOE',\n",
      "       ...\n",
      "       'DeviceProtection_Yes', 'TechSupport_Yes', 'StreamingTV_Yes',\n",
      "       'StreamingMovies_Yes', 'Contract_One year', 'Contract_Two year',\n",
      "       'PaperlessBilling_Yes', 'PaymentMethod_Credit card (automatic)',\n",
      "       'PaymentMethod_Manual', 'Churn_Yes'],\n",
      "      dtype='object', length=7054)\n"
     ]
    }
   ],
   "source": [
    "#Split the Data:\n",
    "# Check the columns in the DataFrame\n",
    "print(df.columns)\n"
   ]
  },
  {
   "cell_type": "code",
   "execution_count": 12,
   "metadata": {},
   "outputs": [
    {
     "name": "stdout",
     "output_type": "stream",
     "text": [
      "Model trained and saved as 'best_rf_model.pkl'\n"
     ]
    },
    {
     "name": "stderr",
     "output_type": "stream",
     "text": [
      "C:\\Users\\mathe\\AppData\\Local\\Temp\\ipykernel_26620\\4210945023.py:49: FutureWarning: DataFrame.fillna with 'method' is deprecated and will raise in a future version. Use obj.ffill() or obj.bfill() instead.\n",
      "  df.fillna(method='ffill', inplace=True)\n",
      "c:\\Users\\mathe\\Lib\\site-packages\\sklearn\\linear_model\\_logistic.py:469: ConvergenceWarning: lbfgs failed to converge (status=1):\n",
      "STOP: TOTAL NO. of ITERATIONS REACHED LIMIT.\n",
      "\n",
      "Increase the number of iterations (max_iter) or scale the data as shown in:\n",
      "    https://scikit-learn.org/stable/modules/preprocessing.html\n",
      "Please also refer to the documentation for alternative solver options:\n",
      "    https://scikit-learn.org/stable/modules/linear_model.html#logistic-regression\n",
      "  n_iter_i = _check_optimize_result(\n"
     ]
    },
    {
     "name": "stdout",
     "output_type": "stream",
     "text": [
      "Classification Report for Logistic Regression:\n",
      "               precision    recall  f1-score   support\n",
      "\n",
      "       False       0.83      0.89      0.86      1033\n",
      "        True       0.61      0.50      0.55       374\n",
      "\n",
      "    accuracy                           0.78      1407\n",
      "   macro avg       0.72      0.69      0.70      1407\n",
      "weighted avg       0.77      0.78      0.78      1407\n",
      "\n",
      "Classification Report for Random Forest:\n",
      "               precision    recall  f1-score   support\n",
      "\n",
      "       False       0.82      0.92      0.86      1033\n",
      "        True       0.65      0.43      0.52       374\n",
      "\n",
      "    accuracy                           0.79      1407\n",
      "   macro avg       0.73      0.67      0.69      1407\n",
      "weighted avg       0.77      0.79      0.77      1407\n",
      "\n",
      "Classification Report for Support Vector Classifier:\n",
      "               precision    recall  f1-score   support\n",
      "\n",
      "       False       0.73      1.00      0.85      1033\n",
      "        True       0.00      0.00      0.00       374\n",
      "\n",
      "    accuracy                           0.73      1407\n",
      "   macro avg       0.37      0.50      0.42      1407\n",
      "weighted avg       0.54      0.73      0.62      1407\n",
      "\n",
      "Model Performance Comparison:\n",
      "Logistic Regression: 0.7832\n",
      "Random Forest: 0.7875\n",
      "Support Vector Classifier: 0.7342\n"
     ]
    },
    {
     "name": "stderr",
     "output_type": "stream",
     "text": [
      "c:\\Users\\mathe\\Lib\\site-packages\\sklearn\\metrics\\_classification.py:1509: UndefinedMetricWarning: Precision is ill-defined and being set to 0.0 in labels with no predicted samples. Use `zero_division` parameter to control this behavior.\n",
      "  _warn_prf(average, modifier, f\"{metric.capitalize()} is\", len(result))\n",
      "c:\\Users\\mathe\\Lib\\site-packages\\sklearn\\metrics\\_classification.py:1509: UndefinedMetricWarning: Precision is ill-defined and being set to 0.0 in labels with no predicted samples. Use `zero_division` parameter to control this behavior.\n",
      "  _warn_prf(average, modifier, f\"{metric.capitalize()} is\", len(result))\n",
      "c:\\Users\\mathe\\Lib\\site-packages\\sklearn\\metrics\\_classification.py:1509: UndefinedMetricWarning: Precision is ill-defined and being set to 0.0 in labels with no predicted samples. Use `zero_division` parameter to control this behavior.\n",
      "  _warn_prf(average, modifier, f\"{metric.capitalize()} is\", len(result))\n"
     ]
    }
   ],
   "source": [
    "import pandas as pd\n",
    "from sklearn.model_selection import train_test_split\n",
    "from sklearn.ensemble import RandomForestClassifier\n",
    "from sklearn.linear_model import LogisticRegression\n",
    "from sklearn.svm import SVC\n",
    "from sklearn.metrics import accuracy_score, classification_report, confusion_matrix\n",
    "import seaborn as sns\n",
    "import matplotlib.pyplot as plt\n",
    "import pandas as pd\n",
    "from sklearn.ensemble import RandomForestClassifier\n",
    "from sklearn.model_selection import train_test_split\n",
    "from sklearn.preprocessing import LabelEncoder\n",
    "import joblib\n",
    "\n",
    "# Load the dataset\n",
    "df = pd.read_csv('https://github.com/YBIFoundation/Dataset/raw/main/TelecomCustomerChurn.csv')\n",
    "\n",
    "# Select relevant features and target variable\n",
    "selected_features = ['Tenure', 'MonthlyCharges', 'Contract']\n",
    "df = df[selected_features + ['Churn']]\n",
    "\n",
    "# Convert categorical column 'Contract' to numerical using Label Encoding\n",
    "df['Contract'] = LabelEncoder().fit_transform(df['Contract'])  # Encode 'Month-to-month', 'One year', 'Two year'\n",
    "\n",
    "# Convert target variable 'Churn' to numerical\n",
    "df['Churn'] = df['Churn'].apply(lambda x: 1 if x == 'Yes' else 0)\n",
    "\n",
    "# Split data into train and test sets\n",
    "X = df[['Tenure', 'MonthlyCharges', 'Contract']]\n",
    "y = df['Churn']\n",
    "X_train, X_test, y_train, y_test = train_test_split(X, y, test_size=0.2, random_state=42)\n",
    "\n",
    "# Train a Random Forest model\n",
    "model = RandomForestClassifier(random_state=42)\n",
    "model.fit(X_train, y_train)\n",
    "\n",
    "# Save the model\n",
    "joblib.dump(model, 'best_rf_model.pkl')\n",
    "\n",
    "# Save feature names\n",
    "joblib.dump(X.columns.tolist(), 'model_features.pkl')\n",
    "\n",
    "print(\"Model trained and saved as 'best_rf_model.pkl'\")\n",
    "\n",
    "# Read dataset\n",
    "df = pd.read_csv('https://github.com/YBIFoundation/Dataset/raw/main/TelecomCustomerChurn.csv')\n",
    "\n",
    "# Data preprocessing steps (as previously discussed)\n",
    "df.fillna(method='ffill', inplace=True)\n",
    "df.drop_duplicates(inplace=True)\n",
    "df['TotalCharges'] = pd.to_numeric(df['TotalCharges'], errors='coerce')\n",
    "df.dropna(subset=['TotalCharges'], inplace=True)\n",
    "df = pd.get_dummies(df, drop_first=True)\n",
    "\n",
    "# Define features and target variable\n",
    "X = df.drop('Churn_Yes', axis=1)  # Assuming 'Churn_Yes' is the target variable\n",
    "y = df['Churn_Yes']\n",
    "\n",
    "# Split the dataset into training and testing sets\n",
    "X_train, X_test, y_train, y_test = train_test_split(X, y, test_size=0.2, random_state=42)\n",
    "\n",
    "# Initialize models\n",
    "models = {\n",
    "    'Logistic Regression': LogisticRegression(max_iter=1000),\n",
    "    'Random Forest': RandomForestClassifier(),\n",
    "    'Support Vector Classifier': SVC()\n",
    "}\n",
    "\n",
    "# Train and validate models\n",
    "results = {}\n",
    "for model_name, model in models.items():\n",
    "    model.fit(X_train, y_train)\n",
    "    y_pred = model.predict(X_test)\n",
    "\n",
    "    # Calculate accuracy\n",
    "    accuracy = accuracy_score(y_test, y_pred)\n",
    "    results[model_name] = accuracy\n",
    "\n",
    "    # Print classification report\n",
    "    print(f\"Classification Report for {model_name}:\\n\", classification_report(y_test, y_pred))  \n",
    "\n",
    "# Compare model performances\n",
    "print(\"Model Performance Comparison:\")\n",
    "for model_name, accuracy in results.items():\n",
    "    print(f\"{model_name}: {accuracy:.4f}\")"
   ]
  },
  {
   "cell_type": "code",
   "execution_count": null,
   "metadata": {},
   "outputs": [
    {
     "name": "stdout",
     "output_type": "stream",
     "text": [
      " * Serving Flask app '__main__'\n",
      " * Debug mode: on\n"
     ]
    },
    {
     "name": "stderr",
     "output_type": "stream",
     "text": [
      "WARNING: This is a development server. Do not use it in a production deployment. Use a production WSGI server instead.\n",
      " * Running on http://127.0.0.1:5000\n",
      "Press CTRL+C to quit\n",
      "127.0.0.1 - - [11/Dec/2024 17:35:57] \"GET / HTTP/1.1\" 200 -\n",
      "127.0.0.1 - - [11/Dec/2024 17:36:03] \"POST /predict HTTP/1.1\" 200 -\n",
      "127.0.0.1 - - [11/Dec/2024 17:36:10] \"POST /predict HTTP/1.1\" 200 -\n",
      "127.0.0.1 - - [11/Dec/2024 17:39:11] \"GET / HTTP/1.1\" 200 -\n",
      "127.0.0.1 - - [11/Dec/2024 17:39:40] \"GET /predict HTTP/1.1\" 405 -\n",
      "127.0.0.1 - - [11/Dec/2024 17:39:40] \"GET /favicon.ico HTTP/1.1\" 404 -\n",
      "127.0.0.1 - - [11/Dec/2024 18:09:20] \"GET / HTTP/1.1\" 200 -\n",
      "127.0.0.1 - - [11/Dec/2024 18:09:49] \"GET /predict HTTP/1.1\" 405 -\n",
      "127.0.0.1 - - [11/Dec/2024 18:30:06] \"GET / HTTP/1.1\" 200 -\n"
     ]
    }
   ],
   "source": [
    "import threading\n",
    "from flask import Flask, request, jsonify\n",
    "import joblib\n",
    "import pandas as pd\n",
    "import os \n",
    "\n",
    "# Initialize Flask app\n",
    "app = Flask(__name__)\n",
    "\n",
    "# Load the trained model and feature names\n",
    "MODEL_PATH = 'best_rf_model.pkl'\n",
    "FEATURES_PATH = 'model_features.pkl'\n",
    "\n",
    "if os.path.exists(MODEL_PATH) and os.path.exists(FEATURES_PATH):\n",
    "    model = joblib.load(MODEL_PATH)\n",
    "    model_features = joblib.load(FEATURES_PATH)\n",
    "else:\n",
    "    model = None\n",
    "    model_features = None\n",
    "\n",
    "@app.route('/')\n",
    "def home():\n",
    "    return jsonify({\n",
    "        'message': 'Welcome to the prediction API!',\n",
    "        'endpoints': {\n",
    "            '/predict': 'POST endpoint for predictions'\n",
    "        }\n",
    "    })\n",
    "\n",
    "@app.route('/predict', methods=['POST'])\n",
    "def predict():\n",
    "    if model is None or model_features is None:\n",
    "        return jsonify({'error': \"Model or features file not found.\"}), 500\n",
    "\n",
    "    try:\n",
    "        data = request.get_json(force=True)\n",
    "        if not data:\n",
    "            return jsonify({'error': 'No input data provided'}), 400\n",
    "\n",
    "        # Convert input data to DataFrame\n",
    "        input_data = pd.DataFrame([data])\n",
    "\n",
    "        # Validate features\n",
    "        missing_features = set(model_features) - set(input_data.columns)\n",
    "        if missing_features:\n",
    "            return jsonify({'error': f'Missing features: {missing_features}'}), 400\n",
    "\n",
    "        # Ensure features are in the correct order\n",
    "        input_data = input_data[model_features]\n",
    "\n",
    "        # Make predictions\n",
    "        prediction = model.predict(input_data)\n",
    "        prediction_proba = model.predict_proba(input_data)[:, 1][0]\n",
    "\n",
    "        # Create a user-friendly message\n",
    "        churn_message = (\n",
    "            \"The customer is likely to churn.\"\n",
    "            if prediction[0] == 1\n",
    "            else \"The customer is unlikely to churn.\"\n",
    "        )\n",
    "        churn_probability = round(prediction_proba * 100, 2)\n",
    "\n",
    "        return jsonify({\n",
    "            'message': churn_message,\n",
    "            'churn_probability': f\"{churn_probability}%\"\n",
    "        })\n",
    "    except Exception as e:\n",
    "        return jsonify({'error': str(e)}), 500\n",
    "\n",
    "# Run Flask app in a separate thread\n",
    "def run_app():\n",
    "    app.run(port=5000, debug=True, use_reloader=False)\n",
    "\n",
    "# Start the server in a thread\n",
    "thread = threading.Thread(target=run_app)\n",
    "thread.start()\n"
   ]
  }
 ],
 "metadata": {
  "colab": {
   "provenance": []
  },
  "kernelspec": {
   "display_name": "Python 3",
   "language": "python",
   "name": "python3"
  },
  "language_info": {
   "codemirror_mode": {
    "name": "ipython",
    "version": 3
   },
   "file_extension": ".py",
   "mimetype": "text/x-python",
   "name": "python",
   "nbconvert_exporter": "python",
   "pygments_lexer": "ipython3",
   "version": "3.11.5"
  }
 },
 "nbformat": 4,
 "nbformat_minor": 0
}
